{
 "cells": [
  {
   "cell_type": "code",
   "execution_count": 2,
   "id": "550f119a",
   "metadata": {},
   "outputs": [
    {
     "name": "stdout",
     "output_type": "stream",
     "text": [
      "tensor([1., 2., 3.], requires_grad=True)\n",
      "tensor([3., 4., 5.], grad_fn=<AddBackward0>)\n",
      "tensor([18., 32., 50.], grad_fn=<MulBackward0>)\n",
      "tensor([2.1600e+02, 1.6000e+01, 2.0000e-02])\n"
     ]
    }
   ],
   "source": [
    "import torch\n",
    "\n",
    "x = torch.tensor([1,2,3], dtype=torch.float, requires_grad = True)\n",
    "print(x)\n",
    "\n",
    "y = x+2\n",
    "print(y)\n",
    "\n",
    "z = y*y*2\n",
    "print(z)\n",
    "\n",
    "loss = torch.tensor([18, 1.0, 0.001])\n",
    "z.backward(loss)\n",
    "\n",
    "print(x.grad)"
   ]
  },
  {
   "cell_type": "code",
   "execution_count": 3,
   "id": "01bdd621",
   "metadata": {},
   "outputs": [
    {
     "name": "stdout",
     "output_type": "stream",
     "text": [
      "tensor([-0.0741, -0.4923, -0.1474], requires_grad=True)\n",
      "tensor([-0.0741, -0.4923, -0.1474])\n",
      "tensor([1.9259, 1.5077, 1.8526])\n"
     ]
    }
   ],
   "source": [
    "#3 ways to stop having grad_func\n",
    "\n",
    "x = torch.randn(3, requires_grad = True)\n",
    "print(x)\n",
    "\n",
    "#1st Way\n",
    "#x.requires_grad_(False)\n",
    "#x.requires_grad = False\n",
    "#print(x)\n",
    "\n",
    "#2nd way\n",
    "z=x.detach_()\n",
    "print(z)\n",
    "\n",
    "\n",
    "#3rd way\n",
    "with torch.no_grad():\n",
    "    y = x + 2\n",
    "    print(y)\n"
   ]
  },
  {
   "cell_type": "code",
   "execution_count": 4,
   "id": "6d3089da",
   "metadata": {},
   "outputs": [
    {
     "name": "stdout",
     "output_type": "stream",
     "text": [
      "tensor([3., 3., 3., 3.])\n",
      "tensor([6., 6., 6., 6.])\n",
      "tensor([9., 9., 9., 9.])\n"
     ]
    }
   ],
   "source": [
    "weigths = torch.ones(4, requires_grad = True)\n",
    "\n",
    "for epoch in range(3):\n",
    "    model_output = (weigths*3).sum()\n",
    "    model_output.backward()\n",
    "    print(weigths.grad)"
   ]
  },
  {
   "cell_type": "code",
   "execution_count": null,
   "id": "b7dd2ce1",
   "metadata": {},
   "outputs": [],
   "source": []
  }
 ],
 "metadata": {
  "kernelspec": {
   "display_name": "pytorch",
   "language": "python",
   "name": "pytorch"
  },
  "language_info": {
   "codemirror_mode": {
    "name": "ipython",
    "version": 3
   },
   "file_extension": ".py",
   "mimetype": "text/x-python",
   "name": "python",
   "nbconvert_exporter": "python",
   "pygments_lexer": "ipython3",
   "version": "3.8.10"
  }
 },
 "nbformat": 4,
 "nbformat_minor": 5
}
