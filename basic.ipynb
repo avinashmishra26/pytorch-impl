{
 "cells": [
  {
   "cell_type": "code",
   "execution_count": 20,
   "id": "e8a5541f",
   "metadata": {},
   "outputs": [
    {
     "data": {
      "text/plain": [
       "tensor([-6.5000, -1.6000,  1.8000])"
      ]
     },
     "execution_count": 20,
     "metadata": {},
     "output_type": "execute_result"
    }
   ],
   "source": [
    "import torch\n",
    "x = torch.tensor([4, 2, 3])\n",
    "x.dtype\n",
    "x.size()\n",
    "\n",
    "\n",
    "y= torch.tensor([1.5, 2.4, 7.8])\n",
    "y\n",
    "\n",
    "torch.add(x,\n",
    "y.sub_(x)   #in-place operation\n",
    "z = y.sub(x)  #not in place\n",
    "z"
   ]
  },
  {
   "cell_type": "code",
   "execution_count": 30,
   "id": "739cdc07",
   "metadata": {},
   "outputs": [
    {
     "name": "stdout",
     "output_type": "stream",
     "text": [
      "tensor([[0.1065, 0.1727, 0.8614],\n",
      "        [0.7570, 0.7284, 0.6112],\n",
      "        [0.6590, 0.3285, 0.5315],\n",
      "        [0.2453, 0.0541, 0.3495],\n",
      "        [0.0968, 0.2969, 0.7662]])\n",
      "tensor([0.1727, 0.7284, 0.3285, 0.0541, 0.2969])\n",
      "tensor(0.7284)\n",
      "0.7284080982208252\n",
      "tensor([0.1065, 0.1727, 0.8614, 0.7570, 0.7284, 0.6112, 0.6590, 0.3285, 0.5315,\n",
      "        0.2453, 0.0541, 0.3495, 0.0968, 0.2969, 0.7662])\n"
     ]
    },
    {
     "data": {
      "text/plain": [
       "tensor([[0.1065, 0.1727, 0.8614, 0.7570, 0.7284],\n",
       "        [0.6112, 0.6590, 0.3285, 0.5315, 0.2453],\n",
       "        [0.0541, 0.3495, 0.0968, 0.2969, 0.7662]])"
      ]
     },
     "execution_count": 30,
     "metadata": {},
     "output_type": "execute_result"
    }
   ],
   "source": [
    "x = torch.rand(5,3)\n",
    "print(x)\n",
    "print(x[:, 1])\n",
    "\n",
    "print(x[1,1])\n",
    "print(x[1,1].item())\n",
    "\n",
    "y = x.view(15)\n",
    "print(y)\n",
    "\n",
    "\n",
    "y = x.view(-1,5)\n",
    "y"
   ]
  },
  {
   "cell_type": "code",
   "execution_count": 37,
   "id": "356d7dec",
   "metadata": {},
   "outputs": [
    {
     "name": "stdout",
     "output_type": "stream",
     "text": [
      "<class 'numpy.ndarray'>\n",
      "tensor([2., 2., 2., 2., 2.])\n",
      "[2. 2. 2. 2. 2.]\n"
     ]
    }
   ],
   "source": [
    "import numpy as np\n",
    "\n",
    "a = torch.ones(5)\n",
    "b = a.numpy()\n",
    "print(type(b))\n",
    "\n",
    "\n",
    "a.add_(1)\n",
    "print(a)\n",
    "print(b)"
   ]
  },
  {
   "cell_type": "code",
   "execution_count": 39,
   "id": "51add53b",
   "metadata": {},
   "outputs": [
    {
     "name": "stdout",
     "output_type": "stream",
     "text": [
      "[1. 1. 1. 1. 1.]\n",
      "tensor([1., 1., 1., 1., 1.], dtype=torch.float64)\n"
     ]
    }
   ],
   "source": [
    "a = np.ones(5)\n",
    "print(a)\n",
    "\n",
    "b = torch.from_numpy(a)\n",
    "print(b)"
   ]
  },
  {
   "cell_type": "code",
   "execution_count": 41,
   "id": "793c5df5",
   "metadata": {},
   "outputs": [],
   "source": [
    "if torch.cuda.is_available():\n",
    "    device = torch.device('cuda')\n",
    "    x = torch.ones(5, device=device)\n",
    "    y = torch.ones(5)\n",
    "    y = y.to(device)\n",
    "    z = x + y\n",
    "    z = z.to('cpu')"
   ]
  },
  {
   "cell_type": "code",
   "execution_count": 43,
   "id": "797ea0e0",
   "metadata": {},
   "outputs": [
    {
     "data": {
      "text/plain": [
       "tensor([1., 1., 1., 1., 1.], requires_grad=True)"
      ]
     },
     "execution_count": 43,
     "metadata": {},
     "output_type": "execute_result"
    }
   ],
   "source": [
    "x = torch.ones(5, requires_grad=True)\n",
    "x"
   ]
  },
  {
   "cell_type": "code",
   "execution_count": null,
   "id": "b0c8098f",
   "metadata": {},
   "outputs": [],
   "source": []
  }
 ],
 "metadata": {
  "kernelspec": {
   "display_name": "pytorch",
   "language": "python",
   "name": "pytorch"
  },
  "language_info": {
   "codemirror_mode": {
    "name": "ipython",
    "version": 3
   },
   "file_extension": ".py",
   "mimetype": "text/x-python",
   "name": "python",
   "nbconvert_exporter": "python",
   "pygments_lexer": "ipython3",
   "version": "3.8.10"
  }
 },
 "nbformat": 4,
 "nbformat_minor": 5
}
