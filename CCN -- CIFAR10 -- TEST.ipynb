{
 "cells": [
  {
   "cell_type": "code",
   "execution_count": 1,
   "id": "74ccfcfb",
   "metadata": {},
   "outputs": [
    {
     "name": "stdout",
     "output_type": "stream",
     "text": [
      "Files already downloaded and verified\n",
      "Files already downloaded and verified\n",
      "tensor([[ 0.3333,  0.3490,  0.3647,  ...,  0.4118,  0.3961,  0.3804],\n",
      "        [ 0.3569,  0.3647,  0.3804,  ...,  0.4431,  0.4275,  0.4196],\n",
      "        [ 0.3333,  0.3412,  0.3569,  ...,  0.4353,  0.4275,  0.4118],\n",
      "        ...,\n",
      "        [-0.0510, -0.0745,  0.0039,  ..., -0.5922, -0.5843, -0.6000],\n",
      "        [-0.0667, -0.0745, -0.0510,  ..., -0.6784, -0.6157, -0.6235],\n",
      "        [-0.1059, -0.0745, -0.0902,  ..., -0.7961, -0.6941, -0.6235]])\n",
      "images.shape => torch.Size([4, 3, 32, 32])\n",
      "labels.shape => torch.Size([4])\n",
      "conv1.shape => torch.Size([4, 6, 28, 28])\n",
      "conv1 MaxPool2d shape => torch.Size([4, 6, 14, 14])\n",
      "conv2.shape => torch.Size([4, 16, 10, 10])\n",
      "conv1 MaxPool2d shape => torch.Size([4, 16, 5, 5])\n"
     ]
    },
    {
     "name": "stderr",
     "output_type": "stream",
     "text": [
      "/home/avinash/anaconda3/envs/pytorch/lib/python3.8/site-packages/torch/nn/functional.py:718: UserWarning: Named tensors and all their associated APIs are an experimental feature and subject to change. Please do not use them for anything important until they are released as stable. (Triggered internally at  /opt/conda/conda-bld/pytorch_1623448216815/work/c10/core/TensorImpl.h:1156.)\n",
      "  return torch.max_pool2d(input, kernel_size, stride, padding, dilation, ceil_mode)\n"
     ]
    },
    {
     "data": {
      "image/png": "[encoded data removed]",
      "text/plain": [
       "<Figure size 432x288 with 4 Axes>"
      ]
     },
     "metadata": {
      "needs_background": "light"
     },
     "output_type": "display_data"
    }
   ],
   "source": [
    "import torch\n",
    "import torch.nn as nn\n",
    "import torchvision\n",
    "import torchvision.transforms as transforms\n",
    "from torch.utils.data import DataLoader\n",
    "import matplotlib.pyplot as plt\n",
    "import numpy as np\n",
    "\n",
    "device = torch.device('cuda' if torch.cuda.is_available() else 'cpu')\n",
    "\n",
    "#hyper-parameters\n",
    "num_epochs = 4\n",
    "batch_size = 4\n",
    "learning_rate = .001\n",
    "\n",
    "transform = transforms.Compose([transforms.ToTensor(), transforms.Normalize((0.5, 0.5, 0.5), (0.5,0.5,0.5))])\n",
    "\n",
    "train_dataset = torchvision.datasets.CIFAR10(root = './data', train = True, download= True, transform=transform)\n",
    "test_dataset = torchvision.datasets.CIFAR10(root = './data', train = False, download= True, transform=transform)\n",
    "\n",
    "                                             \n",
    "train_loader = DataLoader(dataset = train_dataset, shuffle= True, batch_size = batch_size )\n",
    "test_loader = DataLoader(dataset = test_dataset, shuffle= False, batch_size = batch_size )\n",
    "\n",
    "\n",
    "\n",
    "## Test images and its sizes\n",
    "\n",
    "it = iter(train_loader)\n",
    "images, labels = next(it)\n",
    "\n",
    "ig = 1\n",
    "\n",
    "for i in range(4):\n",
    "    plt.subplot(2, 3, ig)\n",
    "    ig+=1\n",
    "    #print(samples[i][0])\n",
    "    plt.imshow(images[i][0])\n",
    "\n",
    "print(images[0][0])\n",
    "    \n",
    "print('images.shape =>' , images.shape)\n",
    "\n",
    "print('labels.shape =>' , labels.shape)\n",
    "\n",
    "conv1 = nn.Conv2d(3,6,5)\n",
    "\n",
    "x = conv1(images)\n",
    "print('conv1.shape =>', x.shape)\n",
    "\n",
    "pool = nn.MaxPool2d(2, 2)\n",
    "\n",
    "x = pool(x)\n",
    "print('conv1 MaxPool2d shape =>', x.shape)\n",
    "\n",
    "\n",
    "conv2 = nn.Conv2d(6,16,5)\n",
    "x = conv2(x)\n",
    "print('conv2.shape =>', x.shape)\n",
    "\n",
    "x = pool(x)\n",
    "print('conv1 MaxPool2d shape =>', x.shape)"
   ]
  },
  {
   "cell_type": "code",
   "execution_count": null,
   "id": "edf9da14",
   "metadata": {},
   "outputs": [],
   "source": []
  }
 ],
 "metadata": {
  "kernelspec": {
   "display_name": "Python 3",
   "language": "python",
   "name": "python3"
  },
  "language_info": {
   "codemirror_mode": {
    "name": "ipython",
    "version": 3
   },
   "file_extension": ".py",
   "mimetype": "text/x-python",
   "name": "python",
   "nbconvert_exporter": "python",
   "pygments_lexer": "ipython3",
   "version": "3.8.8"
  }
 },
 "nbformat": 4,
 "nbformat_minor": 5
}
