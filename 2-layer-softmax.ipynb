{
 "cells": [
  {
   "cell_type": "code",
   "execution_count": 2,
   "id": "196b6a2a",
   "metadata": {},
   "outputs": [],
   "source": [
    "#multiclass problem\n",
    "\n",
    "import torch\n",
    "import torch.nn as nn\n",
    "\n",
    "class NeuralNet2(nn.Module):\n",
    "    \n",
    "    def __init__(self, input_size, hidden_size, num_classes):\n",
    "        super(NeuralNet2, self).__init__()\n",
    "        \n",
    "        self.Linear1 = nn.Linear(input_size, hidden_size)\n",
    "        self.relu = nn.ReLU()\n",
    "        self.Linear2 = nn.Linear(hidden_size, num_classes)\n",
    "        \n",
    "    def forward(self, x):\n",
    "        out = self.Linear1(x)\n",
    "        out = self.relu(out)\n",
    "        out = self.Linear2(out)\n",
    "        # no softmax at the end\n",
    "        \n",
    "        return out\n",
    "    \n",
    "\n",
    "model = NeuralNet2(input_size=28*28, hidden_size=5, num_classes=3)\n",
    "criterion = nn.CrossEntropyLoss()  # applies softmax"
   ]
  },
  {
   "cell_type": "code",
   "execution_count": null,
   "id": "dbae2f85",
   "metadata": {},
   "outputs": [],
   "source": []
  }
 ],
 "metadata": {
  "kernelspec": {
   "display_name": "pytorch",
   "language": "python",
   "name": "pytorch"
  },
  "language_info": {
   "codemirror_mode": {
    "name": "ipython",
    "version": 3
   },
   "file_extension": ".py",
   "mimetype": "text/x-python",
   "name": "python",
   "nbconvert_exporter": "python",
   "pygments_lexer": "ipython3",
   "version": "3.8.10"
  }
 },
 "nbformat": 4,
 "nbformat_minor": 5
}
