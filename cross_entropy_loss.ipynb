{
 "cells": [
  {
   "cell_type": "code",
   "execution_count": null,
   "id": "46a76425",
   "metadata": {},
   "outputs": [],
   "source": []
  },
  {
   "cell_type": "code",
   "execution_count": 10,
   "id": "9e912d04",
   "metadata": {},
   "outputs": [
    {
     "name": "stdout",
     "output_type": "stream",
     "text": [
      "0.3018244206905365\n",
      "2.26849102973938\n",
      "tensor([2, 0, 1])\n",
      "tensor([0, 1, 2])\n"
     ]
    }
   ],
   "source": [
    "import torch\n",
    "import torch.nn as nn\n",
    "\n",
    "loss = nn.CrossEntropyLoss()\n",
    "\n",
    "Y = torch.tensor([2, 0, 1])\n",
    "\n",
    "y_pred = torch.tensor([[0.1, 1.0, 2.1], [2.0, 1.0, 0.1], [0.1, 3.0, 0.1]])\n",
    "\n",
    "\n",
    "y_pred_bad = torch.tensor([[2.0, 1.0, 0.1], [0.1, 3.0, 0.1], [0.1, 1.0, 2.1]])\n",
    "\n",
    "l = loss(y_pred, Y)\n",
    "\n",
    "print(l.item())\n",
    "\n",
    "l_bad = loss(y_pred_bad, Y)\n",
    "\n",
    "print(l_bad.item())\n",
    "\n",
    "\n",
    "_, prediction1 = torch.max(y_pred, 1)\n",
    "\n",
    "print(prediction1)\n",
    "\n",
    "_, prediction2 = torch.max(y_pred_bad, 1)\n",
    "\n",
    "print(prediction2)\n"
   ]
  },
  {
   "cell_type": "code",
   "execution_count": null,
   "id": "44143d2b",
   "metadata": {},
   "outputs": [],
   "source": []
  }
 ],
 "metadata": {
  "kernelspec": {
   "display_name": "pytorch",
   "language": "python",
   "name": "pytorch"
  },
  "language_info": {
   "codemirror_mode": {
    "name": "ipython",
    "version": 3
   },
   "file_extension": ".py",
   "mimetype": "text/x-python",
   "name": "python",
   "nbconvert_exporter": "python",
   "pygments_lexer": "ipython3",
   "version": "3.8.10"
  }
 },
 "nbformat": 4,
 "nbformat_minor": 5
}
